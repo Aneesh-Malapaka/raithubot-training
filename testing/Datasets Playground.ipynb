{
 "cells": [
  {
   "cell_type": "code",
   "execution_count": 1,
   "id": "5304a368",
   "metadata": {},
   "outputs": [],
   "source": [
    "from datasets import load_dataset"
   ]
  },
  {
   "cell_type": "code",
   "execution_count": 2,
   "id": "88889f05",
   "metadata": {
    "scrolled": true
   },
   "outputs": [
    {
     "name": "stdout",
     "output_type": "stream",
     "text": [
      "Downloading and preparing dataset webgpt_comparisons/default to /mnt/sairam/raithubot-training/testing/../hf-data/openai___webgpt_comparisons/default/0.0.0/8b5d5879cdc98c4c0099af6053dffe8d504588d43d3b11f1b1ec223ab1e8db0a...\n"
     ]
    },
    {
     "data": {
      "application/vnd.jupyter.widget-view+json": {
       "model_id": "57d4e2876d15436b8a07d3adb5a1b052",
       "version_major": 2,
       "version_minor": 0
      },
      "text/plain": [
       "Generating train split: 0 examples [00:00, ? examples/s]"
      ]
     },
     "metadata": {},
     "output_type": "display_data"
    },
    {
     "name": "stdout",
     "output_type": "stream",
     "text": [
      "Dataset webgpt_comparisons downloaded and prepared to /mnt/sairam/raithubot-training/testing/../hf-data/openai___webgpt_comparisons/default/0.0.0/8b5d5879cdc98c4c0099af6053dffe8d504588d43d3b11f1b1ec223ab1e8db0a. Subsequent calls will reuse this data.\n"
     ]
    },
    {
     "data": {
      "application/vnd.jupyter.widget-view+json": {
       "model_id": "4ad11d915d5741e7a0921465cdc7093b",
       "version_major": 2,
       "version_minor": 0
      },
      "text/plain": [
       "  0%|          | 0/1 [00:00<?, ?it/s]"
      ]
     },
     "metadata": {},
     "output_type": "display_data"
    }
   ],
   "source": [
    "dataset = load_dataset(\"openai/webgpt_comparisons\", cache_dir = '../hf-data')"
   ]
  },
  {
   "cell_type": "code",
   "execution_count": 7,
   "id": "633e18ec",
   "metadata": {},
   "outputs": [
    {
     "data": {
      "text/plain": [
       "dict_keys(['question', 'quotes_0', 'answer_0', 'tokens_0', 'score_0', 'quotes_1', 'answer_1', 'tokens_1', 'score_1'])"
      ]
     },
     "execution_count": 7,
     "metadata": {},
     "output_type": "execute_result"
    }
   ],
   "source": [
    "dataset['train'][0].keys()"
   ]
  },
  {
   "cell_type": "code",
   "execution_count": 12,
   "id": "d59f305e",
   "metadata": {
    "scrolled": true
   },
   "outputs": [
    {
     "data": {
      "text/plain": [
       "'Voiced by Harry Shearer, what Simpsons character was modeled after Ted Koppel?'"
      ]
     },
     "execution_count": 12,
     "metadata": {},
     "output_type": "execute_result"
    }
   ],
   "source": [
    "dataset['train'][0]['question']['full_text']"
   ]
  },
  {
   "cell_type": "code",
   "execution_count": 18,
   "id": "60bea128",
   "metadata": {},
   "outputs": [
    {
     "data": {
      "text/plain": [
       "-1.0"
      ]
     },
     "execution_count": 18,
     "metadata": {},
     "output_type": "execute_result"
    }
   ],
   "source": [
    "dataset['train'][0]['score_1']"
   ]
  },
  {
   "cell_type": "code",
   "execution_count": 5,
   "id": "48cc60fc",
   "metadata": {},
   "outputs": [],
   "source": [
    "import jsonlines"
   ]
  },
  {
   "cell_type": "code",
   "execution_count": 6,
   "id": "24bcf1d0",
   "metadata": {},
   "outputs": [],
   "source": [
    "with open(\"../kcc_data/jsonlines/data.jsonl\", 'r') as reader:\n",
    "        data = [i[1:-2] for i in reader]"
   ]
  },
  {
   "cell_type": "code",
   "execution_count": 22,
   "id": "e01df980",
   "metadata": {},
   "outputs": [],
   "source": [
    "import numpy as np"
   ]
  },
  {
   "cell_type": "code",
   "execution_count": 37,
   "id": "264dc3cd",
   "metadata": {},
   "outputs": [],
   "source": [
    "records = []"
   ]
  },
  {
   "cell_type": "code",
   "execution_count": 38,
   "id": "f6706b69",
   "metadata": {},
   "outputs": [],
   "source": [
    "for record in data:\n",
    "    record_dict = {}\n",
    "    query_start = record.find(\"<|query|>\") + len(\"<|query|>\")\n",
    "    query_end = record.find(\"</query/>\")\n",
    "    record_dict['query'] = record[query_start:query_end]\n",
    "    record = record[query_end + len(\"</query/>\"):]\n",
    "    \n",
    "    record_dict['summaries'] = []\n",
    "    while True:\n",
    "        summary_dict = {}\n",
    "        summary_start = record.find(\"<|summary|>\") + len(\"<|summary|>\")\n",
    "        summary_end = record.find(\"</summary/>\")\n",
    "        if summary_end == -1:\n",
    "            break\n",
    "        \n",
    "        summary_dict['summary'] = record[summary_start:summary_end]\n",
    "        record = record[summary_end + len(\"</summary/>\"):]\n",
    "        \n",
    "        \n",
    "        while True:\n",
    "            results_start = record.find(\"<|results|>\") + len(\"<|results|>\")\n",
    "            results_end = record.find(\"</results/>\")\n",
    "            if results_end == -1:\n",
    "                break\n",
    "            \n",
    "            results = record[results_start:results_end]\n",
    "            record = record[results_end + len(\"</results/>\"):]\n",
    "            summary_dict['results'] = []\n",
    "            \n",
    "            while True:\n",
    "                result_start = results.find(\"<|result|>\") + len(\"<|result|>\")\n",
    "                result_end = results.find(\"</result/>\")\n",
    "                if result_end == -1:\n",
    "                    break\n",
    "                \n",
    "                summary_dict['results'].append(results[result_start:result_end])\n",
    "                \n",
    "                results = results[result_end + len(\"</result/>\"):]\n",
    "        \n",
    "        record_dict['summaries'].append(summary_dict)\n",
    "    \n",
    "    response_start = record.find(\"<|response|>\") + len(\"<|response|>\")\n",
    "    response_end = record.find(\"</response/>\")\n",
    "    record_dict['response'] = record[response_start:response_end]\n",
    "    records.append(record_dict)"
   ]
  },
  {
   "cell_type": "code",
   "execution_count": 40,
   "id": "e4d18dd0",
   "metadata": {
    "scrolled": true
   },
   "outputs": [
    {
     "data": {
      "text/plain": [
       "{'query': \"I understand that paddy nutrient management is important, but I'm not sure how it works and how it can help me.\",\n",
       " 'summaries': [{'summary': 'paddy nutrient management',\n",
       "   'results': [\"Environmental Fate: What happens to the pesticide in soil, water, and air after being released into the environment.<|result-sentence|>Environmental Fate: What happens to the pesticide in soil, water, and air after being released into the environment.<|result-sentence|>The studies we use in our ecological risk assessments define the chemical properties of the pesticide, how the pesticide behaves in the environment, and its impact on plants and animals not targeted by the pesticide.<|result-sentence|>For plants, we look at how poisonous the pesticide is to plants, how the pesticide affects a seed's ability to germinate and emerge, as well as how healthy and vigorous the plant grows up.<|result-sentence|>The process of comparing toxicity information and the amount of the pesticide a given organism may be exposed to in the environment is called risk assessment.\",\n",
       "    'Rice plant depends mainly for its nitrogen upon the decomposition of organic matter under anaerobic conditions and in the early stages of growth takes up nitrogen in the form of ammonia which is the stable form of nitrogen in submerged soils.<|result-sentence|>It is possible that the amount taken up by paddy is equal to the amount of silicic acid present in the water the roots absorb, so that the greater the amount of water transpired, the greater their uptake of silica.<|result-sentence|>Yellowing of leaves in paddy indicates the deficiency of nitrogen, but it is difficult to decide the quantity of nitrogen to be applied based on the extent of yellowing.<|result-sentence|>Match the colour of the selected leaves by keeping the middle of the leaves on the colour strips of leaf colour chart and assess the colour intensity ( LCC value) during morning hours (8-10 am).<|result-sentence|>Biofertilizer Biofertilizers are ready to use live formulates of such beneficial microorganisms which on application to seed, root or soil mobilize the availability of nutrients by their biological activity in particular, and help to build up the micro-flora and in turn the soil health in general.',\n",
       "    'Always use manure and fertilizer after testing of soil.<|result-sentence|>It improves the production capacity and fertility of soil.<|result-sentence|>In paddy field, fertilizer dose is determined on the basis of varieties.<|result-sentence|>Time of fertilizer use- Always mix the fertilizers in the land below 3-4 cm from seeds so that, seed and fertilizer could not mix mutually, because there is a negative effect on seed germination and crop yield.<|result-sentence|>Use phosphorus and potash before sowing in the field.',\n",
       "    '403 Forbidden']}],\n",
       " 'response': 'Paddy nutrient management is the practice of applying nutrients to the rice crop in the right amount, at the right time and in the right form to optimize crop growth and yield. It also helps to maintain or improve soil fertility and prevent nutrient losses that can harm the environment.\\\\n\\\\nPaddy requires the following essential nutrients for its normal development: **carbon**, **hydrogen**, **oxygen**, **nitrogen**, **phosphorus**, **potassium**, **calcium**, **magnesium**, **sulphur**, **iron**, **zinc**, **chlorine**, **manganese**, **boron**, **copper** and **molybdenum**. Nitrogen, phosphorus and potassium are known as primary plant nutrients; calcium, magnesium and sulphur, as secondary nutrients; iron manganese, copper, zinc, boron, molybdenum and chlorine as trace elements or micro-nutrients.\\\\n\\\\nThe amount of nutrients required by paddy depends on the soil type, variety, climate and yield goal. Soil testing is a useful tool to determine the nutrient status of the soil and the fertilizer requirement for paddy. Generally, paddy needs more nitrogen than phosphorus and potassium, and nitrogen should be applied in split doses to match the crop demand at different growth stages . Phosphorus is important for early growth and root development, and potassium enhances the resistance and quality of the crop.\\\\n\\\\nPaddy nutrient management can help you to increase your crop productivity and income, as well as to conserve natural resources and protect the environment. By applying nutrients in a balanced and efficient way, you can reduce nutrient losses through runoff, leaching or volatilization, and avoid nutrient deficiencies or toxicities that can affect crop growth .'}"
      ]
     },
     "execution_count": 40,
     "metadata": {},
     "output_type": "execute_result"
    }
   ],
   "source": [
    "records[1]"
   ]
  },
  {
   "cell_type": "code",
   "execution_count": 41,
   "id": "5d0f2dba",
   "metadata": {},
   "outputs": [],
   "source": [
    "record_texts = []"
   ]
  },
  {
   "cell_type": "code",
   "execution_count": 42,
   "id": "6a3fde2f",
   "metadata": {},
   "outputs": [],
   "source": [
    "for record in records:\n",
    "    text = \"<|query|>\" + record['query'] + \"</query/>\"\n",
    "    for summary in record['summaries']:\n",
    "        text += '<|summary|>' + summary['summary'] + \"</summary/>\"\n",
    "        text += '<|results|>'\n",
    "        if len(summary['results']) > 3:\n",
    "            summary['results'] = np.random.choice(summary['results'], 3, replace = False)\n",
    "        \n",
    "        for result in summary['results']:\n",
    "            text += '<|result|>'\n",
    "            text += result\n",
    "            text += '</result/>'\n",
    "        text += '</results/>'\n",
    "    \n",
    "    text += '<|response|>'\n",
    "    text += record['response']\n",
    "    text += '</response/>'\n",
    "    record_texts.append(text)"
   ]
  },
  {
   "cell_type": "code",
   "execution_count": 45,
   "id": "e969b112",
   "metadata": {},
   "outputs": [],
   "source": [
    "with jsonlines.open('../kcc_data/jsonlines/trimmed.jsonl', 'w') as writer:\n",
    "    for text in record_texts:\n",
    "        writer.write(text)"
   ]
  },
  {
   "cell_type": "code",
   "execution_count": 30,
   "id": "537e5e60",
   "metadata": {},
   "outputs": [
    {
     "data": {
      "text/plain": [
       "3"
      ]
     },
     "execution_count": 30,
     "metadata": {},
     "output_type": "execute_result"
    }
   ],
   "source": [
    "len(all_results)"
   ]
  },
  {
   "cell_type": "code",
   "execution_count": 27,
   "id": "bb8e30e9",
   "metadata": {},
   "outputs": [
    {
     "data": {
      "text/plain": [
       "3"
      ]
     },
     "execution_count": 27,
     "metadata": {},
     "output_type": "execute_result"
    }
   ],
   "source": [
    "len(all_results)"
   ]
  },
  {
   "cell_type": "code",
   "execution_count": 8,
   "id": "ee572b2f",
   "metadata": {},
   "outputs": [
    {
     "ename": "AttributeError",
     "evalue": "'list' object has no attribute 'find'",
     "output_type": "error",
     "traceback": [
      "\u001b[0;31m---------------------------------------------------------------------------\u001b[0m",
      "\u001b[0;31mAttributeError\u001b[0m                            Traceback (most recent call last)",
      "\u001b[0;32m/var/tmp/ipykernel_1807/4159906396.py\u001b[0m in \u001b[0;36m<module>\u001b[0;34m\u001b[0m\n\u001b[1;32m      1\u001b[0m \u001b[0;32mfor\u001b[0m \u001b[0mi\u001b[0m \u001b[0;32min\u001b[0m \u001b[0mrange\u001b[0m\u001b[0;34m(\u001b[0m\u001b[0;36m75\u001b[0m\u001b[0;34m)\u001b[0m\u001b[0;34m:\u001b[0m\u001b[0;34m\u001b[0m\u001b[0;34m\u001b[0m\u001b[0m\n\u001b[0;32m----> 2\u001b[0;31m     \u001b[0mrecord\u001b[0m \u001b[0;34m=\u001b[0m \u001b[0mfindithdatapoint\u001b[0m\u001b[0;34m(\u001b[0m\u001b[0mi\u001b[0m\u001b[0;34m)\u001b[0m\u001b[0;34m\u001b[0m\u001b[0;34m\u001b[0m\u001b[0m\n\u001b[0m",
      "\u001b[0;32m/var/tmp/ipykernel_1807/1163171050.py\u001b[0m in \u001b[0;36mfindithdatapoint\u001b[0;34m(i)\u001b[0m\n\u001b[1;32m      4\u001b[0m     \u001b[0;32mfor\u001b[0m \u001b[0m_\u001b[0m \u001b[0;32min\u001b[0m \u001b[0mrange\u001b[0m\u001b[0;34m(\u001b[0m\u001b[0mi\u001b[0m\u001b[0;34m)\u001b[0m\u001b[0;34m:\u001b[0m\u001b[0;34m\u001b[0m\u001b[0;34m\u001b[0m\u001b[0m\n\u001b[1;32m      5\u001b[0m         \u001b[0mprevend\u001b[0m \u001b[0;34m=\u001b[0m \u001b[0mend\u001b[0m\u001b[0;34m\u001b[0m\u001b[0;34m\u001b[0m\u001b[0m\n\u001b[0;32m----> 6\u001b[0;31m         \u001b[0mend\u001b[0m \u001b[0;34m=\u001b[0m \u001b[0mend\u001b[0m \u001b[0;34m+\u001b[0m \u001b[0mdata\u001b[0m\u001b[0;34m[\u001b[0m\u001b[0mend\u001b[0m\u001b[0;34m:\u001b[0m\u001b[0;34m]\u001b[0m\u001b[0;34m.\u001b[0m\u001b[0mfind\u001b[0m\u001b[0;34m(\u001b[0m\u001b[0;34m\"</response/>\"\u001b[0m\u001b[0;34m)\u001b[0m \u001b[0;34m+\u001b[0m \u001b[0;36m12\u001b[0m\u001b[0;34m\u001b[0m\u001b[0;34m\u001b[0m\u001b[0m\n\u001b[0m\u001b[1;32m      7\u001b[0m     \u001b[0;32mreturn\u001b[0m \u001b[0mprevend\u001b[0m\u001b[0;34m,\u001b[0m \u001b[0mend\u001b[0m\u001b[0;34m\u001b[0m\u001b[0;34m\u001b[0m\u001b[0m\n",
      "\u001b[0;31mAttributeError\u001b[0m: 'list' object has no attribute 'find'"
     ]
    }
   ],
   "source": [
    "for i in range(75):\n",
    "    record = findithdatapoint(i)"
   ]
  },
  {
   "cell_type": "code",
   "execution_count": 3,
   "id": "3c507831",
   "metadata": {},
   "outputs": [],
   "source": [
    "train_dataset = dataset['train']"
   ]
  },
  {
   "cell_type": "code",
   "execution_count": 4,
   "id": "4dcc53e8",
   "metadata": {},
   "outputs": [
    {
     "data": {
      "text/plain": [
       "Dataset({\n",
       "    features: ['question', 'quotes_0', 'answer_0', 'tokens_0', 'score_0', 'quotes_1', 'answer_1', 'tokens_1', 'score_1'],\n",
       "    num_rows: 19578\n",
       "})"
      ]
     },
     "execution_count": 4,
     "metadata": {},
     "output_type": "execute_result"
    }
   ],
   "source": [
    "train_dataset"
   ]
  },
  {
   "cell_type": "code",
   "execution_count": 5,
   "id": "80916e3d",
   "metadata": {},
   "outputs": [],
   "source": [
    "mystery = next(iter(train_dataset))"
   ]
  },
  {
   "cell_type": "code",
   "execution_count": 6,
   "id": "3ba043ef",
   "metadata": {},
   "outputs": [
    {
     "data": {
      "text/plain": [
       "'Voiced by Harry Shearer, what Simpsons character was modeled after Ted Koppel?'"
      ]
     },
     "execution_count": 6,
     "metadata": {},
     "output_type": "execute_result"
    }
   ],
   "source": [
    "mystery['question']['full_text']"
   ]
  },
  {
   "cell_type": "code",
   "execution_count": 7,
   "id": "63cb3325",
   "metadata": {},
   "outputs": [
    {
     "data": {
      "text/plain": [
       "{'title': ['Kent Brockman (en.wikipedia.org)',\n",
       "  'Krusty the Clown (en.wikipedia.org)'],\n",
       " 'extract': ['Kent Brockman is a fictional character in the animated television series The Simpsons. He is voiced by Harry Shearer and first appeared in the episode \"Krusty Gets Busted\". He is a grumpy, self-centered local Springfield news anchor.',\n",
       "  \"Krusty was created by cartoonist Matt Groening and partially inspired by Rusty Nails, a television clown from Groening's hometown of Portland, Oregon.\"]}"
      ]
     },
     "execution_count": 7,
     "metadata": {},
     "output_type": "execute_result"
    }
   ],
   "source": [
    "mystery['quotes_0']"
   ]
  },
  {
   "cell_type": "code",
   "execution_count": 12,
   "id": "24509a63",
   "metadata": {},
   "outputs": [],
   "source": [
    "import os\n",
    "import requests"
   ]
  },
  {
   "cell_type": "code",
   "execution_count": 31,
   "id": "a2149455",
   "metadata": {},
   "outputs": [],
   "source": [
    "payload = {\n",
    "    'q': 'Voiced by Harry Shearer, what Simpsons character was modeled after Ted Koppel?',\n",
    "    'key': os.environ['SEARCH_API_KEY'],\n",
    "    'cx': os.environ['SEARCH_ENGINE']\n",
    "}\n",
    "resp = requests.get(\"https://customsearch.googleapis.com/customsearch/v1\", payload)\n",
    "req = requests.Request('GET', )"
   ]
  },
  {
   "cell_type": "code",
   "execution_count": 46,
   "id": "60950cfa",
   "metadata": {},
   "outputs": [
    {
     "data": {
      "text/plain": [
       "'Kent Brockman is a fictional character in the animated television series The Simpsons. He is voiced by Harry Shearer and first appeared in the episode \"Krusty ... designed the character and modeled him after anchorman Ted Koppel.'"
      ]
     },
     "execution_count": 46,
     "metadata": {},
     "output_type": "execute_result"
    }
   ],
   "source": [
    "resp.json()['items'][1]['snippet']"
   ]
  },
  {
   "cell_type": "code",
   "execution_count": 50,
   "id": "8e26b447",
   "metadata": {},
   "outputs": [
    {
     "data": {
      "text/plain": [
       "['question',\n",
       " 'quotes_0',\n",
       " 'answer_0',\n",
       " 'tokens_0',\n",
       " 'score_0',\n",
       " 'quotes_1',\n",
       " 'answer_1',\n",
       " 'tokens_1',\n",
       " 'score_1']"
      ]
     },
     "execution_count": 50,
     "metadata": {},
     "output_type": "execute_result"
    }
   ],
   "source": [
    "list(mystery.keys())"
   ]
  },
  {
   "cell_type": "code",
   "execution_count": 55,
   "id": "536aaad0",
   "metadata": {},
   "outputs": [
    {
     "data": {
      "text/plain": [
       "-1.0"
      ]
     },
     "execution_count": 55,
     "metadata": {},
     "output_type": "execute_result"
    }
   ],
   "source": [
    "mystery['score_1']"
   ]
  },
  {
   "cell_type": "code",
   "execution_count": null,
   "id": "571e2bf8",
   "metadata": {},
   "outputs": [],
   "source": []
  }
 ],
 "metadata": {
  "kernelspec": {
   "display_name": "Python 3 (ipykernel)",
   "language": "python",
   "name": "python3"
  },
  "language_info": {
   "codemirror_mode": {
    "name": "ipython",
    "version": 3
   },
   "file_extension": ".py",
   "mimetype": "text/x-python",
   "name": "python",
   "nbconvert_exporter": "python",
   "pygments_lexer": "ipython3",
   "version": "3.7.12"
  }
 },
 "nbformat": 4,
 "nbformat_minor": 5
}
