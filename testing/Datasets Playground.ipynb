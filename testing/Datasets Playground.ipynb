{
 "cells": [
  {
   "cell_type": "code",
   "execution_count": 1,
   "id": "5304a368",
   "metadata": {},
   "outputs": [],
   "source": [
    "from datasets import load_dataset"
   ]
  },
  {
   "cell_type": "code",
   "execution_count": 2,
   "id": "88889f05",
   "metadata": {},
   "outputs": [
    {
     "name": "stderr",
     "output_type": "stream",
     "text": [
      "Found cached dataset webgpt_comparisons (/mnt/sairam/datasets/openai___webgpt_comparisons/default/0.0.0/8b5d5879cdc98c4c0099af6053dffe8d504588d43d3b11f1b1ec223ab1e8db0a)\n"
     ]
    },
    {
     "data": {
      "application/vnd.jupyter.widget-view+json": {
       "model_id": "3bde4c789d4d488e8ae0714372a74e72",
       "version_major": 2,
       "version_minor": 0
      },
      "text/plain": [
       "  0%|          | 0/1 [00:00<?, ?it/s]"
      ]
     },
     "metadata": {},
     "output_type": "display_data"
    }
   ],
   "source": [
    "dataset = load_dataset(\"openai/webgpt_comparisons\", cache_dir = '/mnt/sairam/datasets')"
   ]
  },
  {
   "cell_type": "code",
   "execution_count": 3,
   "id": "3c507831",
   "metadata": {},
   "outputs": [],
   "source": [
    "train_dataset = dataset['train']"
   ]
  },
  {
   "cell_type": "code",
   "execution_count": 4,
   "id": "4dcc53e8",
   "metadata": {},
   "outputs": [
    {
     "data": {
      "text/plain": [
       "Dataset({\n",
       "    features: ['question', 'quotes_0', 'answer_0', 'tokens_0', 'score_0', 'quotes_1', 'answer_1', 'tokens_1', 'score_1'],\n",
       "    num_rows: 19578\n",
       "})"
      ]
     },
     "execution_count": 4,
     "metadata": {},
     "output_type": "execute_result"
    }
   ],
   "source": [
    "train_dataset"
   ]
  },
  {
   "cell_type": "code",
   "execution_count": 5,
   "id": "80916e3d",
   "metadata": {},
   "outputs": [],
   "source": [
    "mystery = next(iter(train_dataset))"
   ]
  },
  {
   "cell_type": "code",
   "execution_count": 6,
   "id": "3ba043ef",
   "metadata": {},
   "outputs": [
    {
     "data": {
      "text/plain": [
       "'Voiced by Harry Shearer, what Simpsons character was modeled after Ted Koppel?'"
      ]
     },
     "execution_count": 6,
     "metadata": {},
     "output_type": "execute_result"
    }
   ],
   "source": [
    "mystery['question']['full_text']"
   ]
  },
  {
   "cell_type": "code",
   "execution_count": 7,
   "id": "63cb3325",
   "metadata": {},
   "outputs": [
    {
     "data": {
      "text/plain": [
       "{'title': ['Kent Brockman (en.wikipedia.org)',\n",
       "  'Krusty the Clown (en.wikipedia.org)'],\n",
       " 'extract': ['Kent Brockman is a fictional character in the animated television series The Simpsons. He is voiced by Harry Shearer and first appeared in the episode \"Krusty Gets Busted\". He is a grumpy, self-centered local Springfield news anchor.',\n",
       "  \"Krusty was created by cartoonist Matt Groening and partially inspired by Rusty Nails, a television clown from Groening's hometown of Portland, Oregon.\"]}"
      ]
     },
     "execution_count": 7,
     "metadata": {},
     "output_type": "execute_result"
    }
   ],
   "source": [
    "mystery['quotes_0']"
   ]
  },
  {
   "cell_type": "code",
   "execution_count": 12,
   "id": "24509a63",
   "metadata": {},
   "outputs": [],
   "source": [
    "import os\n",
    "import requests"
   ]
  },
  {
   "cell_type": "code",
   "execution_count": 31,
   "id": "a2149455",
   "metadata": {},
   "outputs": [],
   "source": [
    "payload = {\n",
    "    'q': 'Voiced by Harry Shearer, what Simpsons character was modeled after Ted Koppel?',\n",
    "    'key': os.environ['SEARCH_API_KEY'],\n",
    "    'cx': os.environ['SEARCH_ENGINE']\n",
    "}\n",
    "resp = requests.get(\"https://customsearch.googleapis.com/customsearch/v1\", payload)\n",
    "req = requests.Request('GET', )"
   ]
  },
  {
   "cell_type": "code",
   "execution_count": 46,
   "id": "60950cfa",
   "metadata": {},
   "outputs": [
    {
     "data": {
      "text/plain": [
       "'Kent Brockman is a fictional character in the animated television series The Simpsons. He is voiced by Harry Shearer and first appeared in the episode \"Krusty ... designed the character and modeled him after anchorman Ted Koppel.'"
      ]
     },
     "execution_count": 46,
     "metadata": {},
     "output_type": "execute_result"
    }
   ],
   "source": [
    "resp.json()['items'][1]['snippet']"
   ]
  },
  {
   "cell_type": "code",
   "execution_count": 50,
   "id": "8e26b447",
   "metadata": {},
   "outputs": [
    {
     "data": {
      "text/plain": [
       "['question',\n",
       " 'quotes_0',\n",
       " 'answer_0',\n",
       " 'tokens_0',\n",
       " 'score_0',\n",
       " 'quotes_1',\n",
       " 'answer_1',\n",
       " 'tokens_1',\n",
       " 'score_1']"
      ]
     },
     "execution_count": 50,
     "metadata": {},
     "output_type": "execute_result"
    }
   ],
   "source": [
    "list(mystery.keys())"
   ]
  },
  {
   "cell_type": "code",
   "execution_count": 55,
   "id": "536aaad0",
   "metadata": {},
   "outputs": [
    {
     "data": {
      "text/plain": [
       "-1.0"
      ]
     },
     "execution_count": 55,
     "metadata": {},
     "output_type": "execute_result"
    }
   ],
   "source": [
    "mystery['score_1']"
   ]
  },
  {
   "cell_type": "code",
   "execution_count": null,
   "id": "571e2bf8",
   "metadata": {},
   "outputs": [],
   "source": []
  }
 ],
 "metadata": {
  "kernelspec": {
   "display_name": "Python 3 (ipykernel)",
   "language": "python",
   "name": "python3"
  },
  "language_info": {
   "codemirror_mode": {
    "name": "ipython",
    "version": 3
   },
   "file_extension": ".py",
   "mimetype": "text/x-python",
   "name": "python",
   "nbconvert_exporter": "python",
   "pygments_lexer": "ipython3",
   "version": "3.7.12"
  }
 },
 "nbformat": 4,
 "nbformat_minor": 5
}
