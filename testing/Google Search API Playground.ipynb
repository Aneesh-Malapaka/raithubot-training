{
 "cells": [
  {
   "cell_type": "code",
   "execution_count": 2,
   "id": "71a36b6b",
   "metadata": {},
   "outputs": [],
   "source": [
    "import requests\n",
    "import json"
   ]
  },
  {
   "cell_type": "code",
   "execution_count": 10,
   "id": "09386bb2",
   "metadata": {},
   "outputs": [],
   "source": [
    "with open(\"../api_keys.json\", 'r') as f:\n",
    "    keys = json.load(f)\n",
    "    api_key = keys['google_custom_search']\n",
    "    search_engine_id = keys['search_engine_id']"
   ]
  },
  {
   "cell_type": "code",
   "execution_count": 11,
   "id": "7642a0de",
   "metadata": {},
   "outputs": [],
   "source": [
    "payload = {\n",
    "    'key': api_key,\n",
    "    'cx': search_engine_id,\n",
    "    'q': \"Hello World\"\n",
    "}"
   ]
  },
  {
   "cell_type": "code",
   "execution_count": 12,
   "id": "4c2ac662",
   "metadata": {},
   "outputs": [],
   "source": [
    "req = requests.get(\"https://customsearch.googleapis.com/customsearch/v1\", payload)"
   ]
  },
  {
   "cell_type": "code",
   "execution_count": 16,
   "id": "eac8b1a0",
   "metadata": {},
   "outputs": [
    {
     "data": {
      "text/plain": [
       "dict_keys(['kind', 'url', 'queries', 'context', 'searchInformation', 'items'])"
      ]
     },
     "execution_count": 16,
     "metadata": {},
     "output_type": "execute_result"
    }
   ],
   "source": [
    "req.json().keys()"
   ]
  },
  {
   "cell_type": "code",
   "execution_count": 23,
   "id": "a28aa937",
   "metadata": {},
   "outputs": [
    {
     "data": {
      "text/plain": [
       "[{'kind': 'customsearch#result',\n",
       "  'title': '\"Hello, World!\" program - Wikipedia',\n",
       "  'htmlTitle': '&quot;<b>Hello</b>, <b>World</b>!&quot; program - Wikipedia',\n",
       "  'link': 'https://en.wikipedia.org/wiki/%22Hello,_World!%22_program',\n",
       "  'displayLink': 'en.wikipedia.org',\n",
       "  'snippet': 'A \"Hello, World!\" program is generally a computer program that ignores any input and outputs or displays a message similar to \"Hello, World!\".',\n",
       "  'htmlSnippet': 'A &quot;<b>Hello</b>, <b>World</b>!&quot; program is generally a computer program that ignores any input and outputs or displays a message similar to &quot;<b>Hello</b>, <b>World</b>!&quot;.',\n",
       "  'cacheId': 'UInCiDfJyeUJ',\n",
       "  'formattedUrl': 'https://en.wikipedia.org/wiki/%22Hello,_World!%22_program',\n",
       "  'htmlFormattedUrl': 'https://en.wikipedia.org/wiki/%22<b>Hello</b>,_<b>World</b>!%22_program',\n",
       "  'pagemap': {'metatags': [{'referrer': 'origin',\n",
       "     'og:image': 'https://upload.wikimedia.org/wikipedia/commons/2/21/Hello_World_Brian_Kernighan_1978.jpg',\n",
       "     'theme-color': '#eaecf0',\n",
       "     'og:image:width': '1200',\n",
       "     'og:type': 'website',\n",
       "     'viewport': 'width=device-width, initial-scale=1.0, user-scalable=yes, minimum-scale=0.25, maximum-scale=5.0',\n",
       "     'og:title': '\"Hello, World!\" program - Wikipedia',\n",
       "     'og:image:height': '1315',\n",
       "     'format-detection': 'telephone=no'}]}},\n",
       " {'kind': 'customsearch#result',\n",
       "  'title': 'Hello World Modern Mercantile: Online Gift Shop in Philadelphia ...',\n",
       "  'htmlTitle': '<b>Hello World</b> Modern Mercantile: Online Gift Shop in Philadelphia ...',\n",
       "  'link': 'https://shophelloworld.com/',\n",
       "  'displayLink': 'shophelloworld.com',\n",
       "  'snippet': 'Hello World is one of the best online gift stores in Philadelphia. Our gift store features unique items like jewelry, handbags, totes, accessories,\\xa0...',\n",
       "  'htmlSnippet': '<b>Hello World</b> is one of the best online gift stores in Philadelphia. Our gift store features unique items like jewelry, handbags, totes, accessories,&nbsp;...',\n",
       "  'cacheId': 'nXxyhCa9L0sJ',\n",
       "  'formattedUrl': 'https://shophelloworld.com/',\n",
       "  'htmlFormattedUrl': 'https://shop<b>helloworld</b>.com/',\n",
       "  'pagemap': {'cse_thumbnail': [{'src': 'https://encrypted-tbn1.gstatic.com/images?q=tbn:ANd9GcR_9eiX1_VBoCoVAEPQmEvcXtozYMhIxu6ZXHv1vkTmQthO19hqfyKoJaY',\n",
       "     'width': '260',\n",
       "     'height': '130'}],\n",
       "   'organization': [{'name': 'Hello World Modern Mercantile',\n",
       "     'logo': 'https://cdn.shopify.com/s/files/1/0043/9642/files/receiptlogo03_260x.png?v=1614333378',\n",
       "     'url': 'https://shophelloworld.com/'}],\n",
       "   'metatags': [{'theme-color': '#12ce8c',\n",
       "     'og:type': 'website',\n",
       "     'twitter:card': 'summary_large_image',\n",
       "     'twitter:title': 'Online Gift Shop in Philadelphia |Unique Gift Store - Hello World',\n",
       "     'og:site_name': 'Hello World Modern Mercantile',\n",
       "     'viewport': 'width=device-width,initial-scale=1.0',\n",
       "     'twitter:description': 'Hello World is one of the best online gift stores in Philadelphia. Our gift store features unique items like jewelry, handbags, totes, accessories, baby gifts, candles and much more.',\n",
       "     'shopify-digital-wallet': '/439642/digital_wallets/dialog',\n",
       "     'og:title': 'Online Gift Shop in Philadelphia |Unique Gift Store - Hello World',\n",
       "     'shopify-checkout-api-token': '5725ca2823da741bd6feea4776d60b94',\n",
       "     'og:url': 'https://shophelloworld.com/',\n",
       "     'og:description': 'Hello World is one of the best online gift stores in Philadelphia. Our gift store features unique items like jewelry, handbags, totes, accessories, baby gifts, candles and much more.'}],\n",
       "   'cse_image': [{'src': 'https://cdn.shopify.com/s/files/1/0043/9642/files/receiptlogo03_260x.png?v=1614333378'}]}},\n",
       " {'kind': 'customsearch#result',\n",
       "  'title': 'Hello World | Code.org',\n",
       "  'htmlTitle': '<b>Hello World</b> | Code.org',\n",
       "  'link': 'https://code.org/helloworld',\n",
       "  'displayLink': 'code.org',\n",
       "  'snippet': 'In Computer Science 101, the first program many students create is a simple one that outputs an iconic line of text: \"Hello World!\" Say hello to the world\\xa0...',\n",
       "  'htmlSnippet': 'In Computer Science 101, the first program many students create is a simple one that outputs an iconic line of text: &quot;<b>Hello World</b>!&quot; Say hello to the world&nbsp;...',\n",
       "  'cacheId': 'TWg46TeXY_8J',\n",
       "  'formattedUrl': 'https://code.org/helloworld',\n",
       "  'htmlFormattedUrl': 'https://code.org/<b>helloworld</b>',\n",
       "  'pagemap': {'cse_thumbnail': [{'src': 'https://encrypted-tbn3.gstatic.com/images?q=tbn:ANd9GcT3ISD0H1ReEh2CCEWMdDQAeOtVTzO42YiWocPWa5Jnqq6z8_BYniiBtEk',\n",
       "     'width': '310',\n",
       "     'height': '163'}],\n",
       "   'metatags': [{'og:image': 'https://code.org/images/social-media/helloworld-og-image-1200x630.png',\n",
       "     'og:type': 'article',\n",
       "     'twitter:title': 'Hello World!',\n",
       "     'og:image:width': '1200',\n",
       "     'twitter:card': 'summary_large_image',\n",
       "     'og:site_name': 'Code.org',\n",
       "     'og:title': 'Hello World!',\n",
       "     'og:image:height': '630',\n",
       "     'og:description': 'Choose from fun themes to code interactive characters in a world you create in this Hour of Code activity!',\n",
       "     'article:publisher': 'https://www.facebook.com/Code.org',\n",
       "     'twitter:image:src': 'https://code.org/images/social-media/helloworld-og-image-1200x630.png',\n",
       "     'fb:app_id': '500177453358606',\n",
       "     'viewport': 'width=device-width, initial-scale=1.0, minimum-scale=1.0, maximum-scale=1.0, user-scalable=no',\n",
       "     'twitter:description': 'Choose from fun themes to code interactive characters in a world you create in this Hour of Code activity',\n",
       "     'og:url': 'https://code.org/helloworld'}],\n",
       "   'cse_image': [{'src': 'https://code.org/images/social-media/helloworld-og-image-1200x630.png'}]}},\n",
       " {'kind': 'customsearch#result',\n",
       "  'title': 'Hello World - GitHub Docs',\n",
       "  'htmlTitle': '<b>Hello World</b> - GitHub Docs',\n",
       "  'link': 'https://docs.github.com/en/get-started/quickstart/hello-world',\n",
       "  'displayLink': 'docs.github.com',\n",
       "  'snippet': \"This tutorial teaches you GitHub essentials like repositories, branches, commits, and pull requests. You'll create your own Hello World repository and learn\\xa0...\",\n",
       "  'htmlSnippet': 'This tutorial teaches you GitHub essentials like repositories, branches, commits, and pull requests. You&#39;ll create your own <b>Hello World</b> repository and learn&nbsp;...',\n",
       "  'cacheId': 'AZp1k-eTP4sJ',\n",
       "  'formattedUrl': 'https://docs.github.com/en/get-started/quickstart/hello-world',\n",
       "  'htmlFormattedUrl': 'https://docs.github.com/en/get-started/quickstart/<b>hello</b>-<b>world</b>',\n",
       "  'pagemap': {'cse_thumbnail': [{'src': 'https://encrypted-tbn0.gstatic.com/images?q=tbn:ANd9GcRCwTsxFVHqKiYpNvIA-GSY8M1EYwBczxJKHBwY_QpZi-vlCiuZisBYQKI',\n",
       "     'width': '225',\n",
       "     'height': '225'}],\n",
       "   'metatags': [{'page-document-type': 'article',\n",
       "     'og:image': 'https://github.githubassets.com/images/modules/open_graph/github-logo.png',\n",
       "     'og:type': 'article',\n",
       "     'og:site_name': 'GitHub Docs',\n",
       "     'og:title': 'Hello World - GitHub Docs',\n",
       "     'path-article': 'get-started/quickstart/hello-world',\n",
       "     'path-version': 'free-pro-team@latest',\n",
       "     'path-product': 'get-started',\n",
       "     'next-head-count': '29',\n",
       "     'path-language': 'en',\n",
       "     'viewport': 'width=device-width, initial-scale=1',\n",
       "     'page-type': 'quick_start',\n",
       "     'og:url': 'https://ghdocs-prod.azurewebsites.net/en/get-started/quickstart/hello-world',\n",
       "     'status': '200'}],\n",
       "   'cse_image': [{'src': 'https://github.githubassets.com/images/modules/open_graph/github-logo.png'}]}},\n",
       " {'kind': 'customsearch#result',\n",
       "  'title': 'Hello World magazine',\n",
       "  'htmlTitle': '<b>Hello World</b> magazine',\n",
       "  'link': 'https://helloworld.raspberrypi.org/',\n",
       "  'displayLink': 'helloworld.raspberrypi.org',\n",
       "  'snippet': \"Hello World issue 20. “Have you tried switching it off and on again?” “The Wi-Fi must be down!” “How come I can't see the cloud up in the sky?\",\n",
       "  'htmlSnippet': '<b>Hello World</b> issue 20. “Have you tried switching it off and on again?” “The Wi-Fi must be down!” “How come I can&#39;t see the cloud up in the sky?',\n",
       "  'cacheId': 'POS2s4YXPC0J',\n",
       "  'formattedUrl': 'https://helloworld.raspberrypi.org/',\n",
       "  'htmlFormattedUrl': 'https://<b>helloworld</b>.raspberrypi.org/',\n",
       "  'pagemap': {'cse_thumbnail': [{'src': 'https://encrypted-tbn2.gstatic.com/images?q=tbn:ANd9GcR4BFDgXHEC2R-hxCPES9qrINsDJrXQBCMSxnbLAHJ_8wGNsqwdc1K_9_w',\n",
       "     'width': '225',\n",
       "     'height': '225'}],\n",
       "   'metatags': [{'og:image': 'https://helloworld.raspberrypi.org/assets/helloworld/meta_image-1e940b77afe31f357ca27e518a38bec065ed86531f12dec73292828707b0ad62.png',\n",
       "     'twitter:card': 'summary_large_image',\n",
       "     'twitter:title': 'Hello World',\n",
       "     'og:type': 'website',\n",
       "     'og:site_name': 'Hello World',\n",
       "     'og:title': 'Hello World',\n",
       "     'csrf-param': 'authenticity_token',\n",
       "     'og:description': 'For Computing and Digital Making Educators',\n",
       "     'twitter:creator': '@HelloWorld_Edu',\n",
       "     'twitter:image': 'https://helloworld.raspberrypi.org/assets/helloworld/meta_image-1e940b77afe31f357ca27e518a38bec065ed86531f12dec73292828707b0ad62.png',\n",
       "     'twitter:site': '@HelloWorld_Edu',\n",
       "     'viewport': 'width=device-width, initial-scale=1',\n",
       "     'csrf-token': 'Za0aQAxDgKqkBpyvi2HN9pj9d2wEO6IGlpz1yxhr0RZBx/rRhTD2JUzpr5Q52VfSpZin7PF2Yip9LFo6pJPpYQ==',\n",
       "     'og:locale': 'en_GB',\n",
       "     'og:url': 'https://helloworld.raspberrypi.org/'}],\n",
       "   'cse_image': [{'src': 'https://helloworld.raspberrypi.org/assets/helloworld/meta_image-1e940b77afe31f357ca27e518a38bec065ed86531f12dec73292828707b0ad62.png'}]}}]"
      ]
     },
     "execution_count": 23,
     "metadata": {},
     "output_type": "execute_result"
    }
   ],
   "source": [
    "req.json()['items']"
   ]
  },
  {
   "cell_type": "code",
   "execution_count": null,
   "id": "ec81b96a",
   "metadata": {},
   "outputs": [],
   "source": []
  }
 ],
 "metadata": {
  "kernelspec": {
   "display_name": "Python 3 (ipykernel)",
   "language": "python",
   "name": "python3"
  },
  "language_info": {
   "codemirror_mode": {
    "name": "ipython",
    "version": 3
   },
   "file_extension": ".py",
   "mimetype": "text/x-python",
   "name": "python",
   "nbconvert_exporter": "python",
   "pygments_lexer": "ipython3",
   "version": "3.7.12"
  }
 },
 "nbformat": 4,
 "nbformat_minor": 5
}
