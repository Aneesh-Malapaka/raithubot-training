{
 "cells": [
  {
   "cell_type": "code",
   "execution_count": 1,
   "id": "4dddeaa8",
   "metadata": {},
   "outputs": [],
   "source": [
    "from transformers import pipeline"
   ]
  },
  {
   "cell_type": "code",
   "execution_count": 2,
   "id": "6660019d",
   "metadata": {},
   "outputs": [],
   "source": [
    "from transformers import AutoModelForCausalLM, AutoTokenizer"
   ]
  },
  {
   "cell_type": "code",
   "execution_count": 3,
   "id": "149fae61",
   "metadata": {
    "scrolled": false
   },
   "outputs": [],
   "source": [
    "model = AutoModelForCausalLM.from_pretrained('../hf-models/usvsnsp-sft-combined').half().eval()"
   ]
  },
  {
   "cell_type": "code",
   "execution_count": 4,
   "id": "6e0ac09f",
   "metadata": {
    "scrolled": true
   },
   "outputs": [
    {
     "name": "stderr",
     "output_type": "stream",
     "text": [
      "Special tokens have been added in the vocabulary, make sure the associated word embeddings are fine-tuned or trained.\n"
     ]
    }
   ],
   "source": [
    "tokenizer = AutoTokenizer.from_pretrained(\n",
    "    'EleutherAI/pythia-12b', \n",
    "    cache_dir = './hf-models',\n",
    "    additional_special_tokens = (\n",
    "        '<|query|>',\n",
    "        '</query/>',\n",
    "        '<|response|>',\n",
    "        '</response/>',\n",
    "        '<|result|>',\n",
    "        '</result/>',\n",
    "        '<|summary|>',\n",
    "        '</summary/>',\n",
    "        '<|results|>',\n",
    "        '</results/>',\n",
    "        '<|result-sentence|>'\n",
    "    )\n",
    ")"
   ]
  },
  {
   "cell_type": "code",
   "execution_count": 5,
   "id": "bdcef653",
   "metadata": {},
   "outputs": [],
   "source": [
    "pipe = pipeline('text-generation', model = model, tokenizer = tokenizer, device = 0)"
   ]
  },
  {
   "cell_type": "code",
   "execution_count": 8,
   "id": "2b320efc",
   "metadata": {},
   "outputs": [
    {
     "name": "stderr",
     "output_type": "stream",
     "text": [
      "Setting `pad_token_id` to `eos_token_id`:0 for open-end generation.\n"
     ]
    },
    {
     "data": {
      "text/plain": [
       "[{'generated_text': '<|prompt|>Hey I am a farmer from Hyderabad and am not able to figure out why my mango leaves turned yellow</prompt/><|summary|>.\\n<prompt/>\\n<prompt/>\\n<prompt/>\\n<prompt/>\\n<prompt/>\\n<prompt/>\\n<prompt/>\\n<prompt/>\\n<prompt/>\\n<prompt/>\\n<prompt/>\\n<prompt/>\\n<prompt/>\\n<prompt/>\\n<prompt/>\\n<prompt/>\\n<prompt/>\\n<prompt/>\\n<prompt/>\\n<prompt/>\\n<prompt/>\\n<prompt/>\\n<prompt/>\\n<prompt/>'}]"
      ]
     },
     "execution_count": 8,
     "metadata": {},
     "output_type": "execute_result"
    }
   ],
   "source": [
    "pipe(\"<|prompt|>Hey I am a farmer from Hyderabad and am not able to figure out why my mango leaves turned yellow</prompt/><|summary|>\", max_length=128)"
   ]
  },
  {
   "cell_type": "code",
   "execution_count": null,
   "id": "6ebf157d",
   "metadata": {},
   "outputs": [],
   "source": []
  }
 ],
 "metadata": {
  "kernelspec": {
   "display_name": "Python 3 (ipykernel)",
   "language": "python",
   "name": "python3"
  },
  "language_info": {
   "codemirror_mode": {
    "name": "ipython",
    "version": 3
   },
   "file_extension": ".py",
   "mimetype": "text/x-python",
   "name": "python",
   "nbconvert_exporter": "python",
   "pygments_lexer": "ipython3",
   "version": "3.7.12"
  }
 },
 "nbformat": 4,
 "nbformat_minor": 5
}
