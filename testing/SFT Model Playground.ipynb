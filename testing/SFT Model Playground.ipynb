{
 "cells": [
  {
   "cell_type": "code",
   "execution_count": 1,
   "id": "4dddeaa8",
   "metadata": {},
   "outputs": [],
   "source": [
    "from transformers import pipeline"
   ]
  },
  {
   "cell_type": "code",
   "execution_count": 1,
   "id": "6660019d",
   "metadata": {},
   "outputs": [],
   "source": [
    "from transformers import AutoModelForCausalLM, AutoTokenizer"
   ]
  },
  {
   "cell_type": "code",
   "execution_count": 2,
   "id": "149fae61",
   "metadata": {
    "scrolled": false
   },
   "outputs": [
    {
     "data": {
      "application/vnd.jupyter.widget-view+json": {
       "model_id": "0a67848f9ad749a0adf30a9b83827180",
       "version_major": 2,
       "version_minor": 0
      },
      "text/plain": [
       "Loading checkpoint shards:   0%|          | 0/3 [00:00<?, ?it/s]"
      ]
     },
     "metadata": {},
     "output_type": "display_data"
    }
   ],
   "source": [
    "model = AutoModelForCausalLM.from_pretrained('OpenAssistant/oasst-sft-1-pythia-12b', cache_dir = './hf-models')"
   ]
  },
  {
   "cell_type": "code",
   "execution_count": 3,
   "id": "91dd4752",
   "metadata": {},
   "outputs": [],
   "source": [
    "model = model.half().eval().cuda()"
   ]
  },
  {
   "cell_type": "code",
   "execution_count": 4,
   "id": "6e0ac09f",
   "metadata": {},
   "outputs": [],
   "source": [
    "tokenizer = AutoTokenizer.from_pretrained('OpenAssistant/oasst-sft-1-pythia-12b', cache_dir = './hf-models')"
   ]
  },
  {
   "cell_type": "code",
   "execution_count": 48,
   "id": "edf61bd0",
   "metadata": {},
   "outputs": [],
   "source": [
    "text = (\"<|prompter|>Rephrase the text from a confused farmer:\"\n",
    "     \" \\'inquiering date to distributed the new land use policy NLUP of the mizoram state goverment.\\'\"\n",
    "     \"<|endoftext|><|assistant|>Hey There I am a farmer from mizoram and I'd like to know when will the new land use policy\"\n",
    "     \" NLUP will start?<|endoftext|><|prompter|>Respond to the text from a confused farmer:\"\n",
    "     \"\\'ASKING ABOUT THE HOW TO AMELIORATE THE SOILS IN BLACKBERRY PLANTATION FIELD.\\'<|endoftext|><|assistant|>\"\n",
    "       )"
   ]
  },
  {
   "cell_type": "code",
   "execution_count": 54,
   "id": "6e5ccbcf",
   "metadata": {},
   "outputs": [],
   "source": [
    "def generate(text):\n",
    "    tokens = tokenizer([text], return_tensors = 'pt').input_ids\n",
    "    generation = model.generate(\n",
    "        input_ids = tokens.cuda(),\n",
    "        temperature = 0,\n",
    "        max_length = 512\n",
    "    )\n",
    "    text = tokenizer.decode(generation[0].cpu())\n",
    "    return text"
   ]
  },
  {
   "cell_type": "code",
   "execution_count": 55,
   "id": "5a9a4528",
   "metadata": {},
   "outputs": [
    {
     "name": "stderr",
     "output_type": "stream",
     "text": [
      "The attention mask and the pad token id were not set. As a consequence, you may observe unexpected behavior. Please pass your input's `attention_mask` to obtain reliable results.\n",
      "Setting `pad_token_id` to `eos_token_id`:0 for open-end generation.\n"
     ]
    },
    {
     "name": "stdout",
     "output_type": "stream",
     "text": [
      "<|prompter|>Rephrase the text from a confused farmer: 'inquiering date to distributed the new land use policy NLUP of the mizoram state goverment.'<|endoftext|><|assistant|>Hey There I am a farmer from mizoram and I'd like to know when will the new land use policy NLUP will start?<|endoftext|><|prompter|>Respond to the text from a confused farmer:'ASKING ABOUT THE HOW TO AMELIORATE THE SOILS IN BLACKBERRY PLANTATION FIELD.'<|endoftext|><|assistant|>Hey there! I'm an expert in soil improvement and I'd be happy to help you with your blackberry plantation field. Here are some steps you can take to improve the soil's quality:\n",
      "\n",
      "1. Fertilize the soil: Fertilizing your blackberry plants with a balanced fertilizer can help improve their growth and yield.\n",
      "\n",
      "2. Add organic matter: Organic matter, such as manure, compost, and leaves, can help improve the soil's texture and structure, and provide nutrients to your plants.\n",
      "\n",
      "3. Water properly: Make sure to water your plants regularly, but avoid over-watering, as it can cause root rot.\n",
      "\n",
      "4. Maintain a healthy soil pH: A healthy soil pH is important for maintaining the balance of nutrients in the soil. You can use a soil testing kit to determine the pH of your soil.\n",
      "\n",
      "5. Control pests and diseases: Pests and diseases can reduce the yield and quality of your blackberries, so it's important to monitor your plants and take action to control any problems.\n",
      "\n",
      "By following these steps, you should be able to improve the soil's quality and optimize the growth of your blackberry plants. Good luck!<|endoftext|>\n"
     ]
    }
   ],
   "source": [
    "print(generate(generate(text) + '<|prompter|>'))"
   ]
  },
  {
   "cell_type": "code",
   "execution_count": null,
   "id": "b65d3a92",
   "metadata": {},
   "outputs": [],
   "source": []
  }
 ],
 "metadata": {
  "kernelspec": {
   "display_name": "Python 3 (ipykernel)",
   "language": "python",
   "name": "python3"
  },
  "language_info": {
   "codemirror_mode": {
    "name": "ipython",
    "version": 3
   },
   "file_extension": ".py",
   "mimetype": "text/x-python",
   "name": "python",
   "nbconvert_exporter": "python",
   "pygments_lexer": "ipython3",
   "version": "3.7.12"
  }
 },
 "nbformat": 4,
 "nbformat_minor": 5
}
