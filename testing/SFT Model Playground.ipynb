{
 "cells": [
  {
   "cell_type": "code",
   "execution_count": 1,
   "id": "2dce84c9",
   "metadata": {},
   "outputs": [],
   "source": [
    "import os\n",
    "os.environ['CUDA_VISIBLE_DEVICES'] = '0'"
   ]
  },
  {
   "cell_type": "code",
   "execution_count": 1,
   "id": "4dddeaa8",
   "metadata": {},
   "outputs": [],
   "source": [
    "from transformers import pipeline"
   ]
  },
  {
   "cell_type": "code",
   "execution_count": 1,
   "id": "6660019d",
   "metadata": {},
   "outputs": [],
   "source": [
    "from transformers import AutoModelForCausalLM, AutoTokenizer"
   ]
  },
  {
   "cell_type": "code",
   "execution_count": 12,
   "id": "149fae61",
   "metadata": {
    "scrolled": true
   },
   "outputs": [],
   "source": [
    "model = AutoModelForCausalLM.from_pretrained(\n",
    "   'EleutherAI/pythia-2.8b',\n",
    "    cache_dir = '../hf-models',\n",
    ").eval()"
   ]
  },
  {
   "cell_type": "code",
   "execution_count": 13,
   "id": "097bcf08",
   "metadata": {
    "scrolled": true
   },
   "outputs": [],
   "source": [
    "from peft import PeftModel, PeftConfig"
   ]
  },
  {
   "cell_type": "code",
   "execution_count": 14,
   "id": "12ab6599",
   "metadata": {},
   "outputs": [],
   "source": [
    "model = PeftModel.from_pretrained(model, \"../hf-models/usvsnsp-sft-model\")"
   ]
  },
  {
   "cell_type": "code",
   "execution_count": 15,
   "id": "0f506af2",
   "metadata": {},
   "outputs": [],
   "source": [
    "model = model.cuda()"
   ]
  },
  {
   "cell_type": "code",
   "execution_count": 16,
   "id": "6e0ac09f",
   "metadata": {
    "scrolled": true
   },
   "outputs": [],
   "source": [
    "tokenizer = AutoTokenizer.from_pretrained(\n",
    "    '../hf-models/usvsnsp-sft-model', \n",
    "    cache_dir = '../hf-models',\n",
    ")"
   ]
  },
  {
   "cell_type": "code",
   "execution_count": 35,
   "id": "7e7cdbd2",
   "metadata": {},
   "outputs": [],
   "source": [
    "import torch\n",
    "def generate(text):\n",
    "    tokens = tokenizer([text], return_tensors = 'pt').input_ids.cuda()\n",
    "    text = model.generate(\n",
    "        input_ids = tokens, \n",
    "        do_sample = True,\n",
    "#         num_beams = 5,\n",
    "        temperature = 0.3,\n",
    "        top_k = 30,\n",
    "        top_p = 0.8,\n",
    "        max_length = 512,\n",
    "        repetition_penalty = 1.1,\n",
    "        use_cache = False\n",
    "    )\n",
    "    print(tokenizer.decode(text[0]))"
   ]
  },
  {
   "cell_type": "code",
   "execution_count": 44,
   "id": "83e2fc4c",
   "metadata": {},
   "outputs": [
    {
     "name": "stderr",
     "output_type": "stream",
     "text": [
      "The attention mask and the pad token id were not set. As a consequence, you may observe unexpected behavior. Please pass your input's `attention_mask` to obtain reliable results.\n",
      "Setting `pad_token_id` to `eos_token_id`:0 for open-end generation.\n"
     ]
    },
    {
     "name": "stdout",
     "output_type": "stream",
     "text": [
      "Query: I heard that the use of gram herbicide can cause negative effects on the environment. Can you explain more about this?\n",
      "Response: Gram herbicide is not a specific product name, but a term used to describe herbicides that are applied to crops that have been genetically modified to tolerate them, such as glyphosate, dicamba or 2,4-D. These herbicides can have negative effects on the environment by killing non-target plants and animals, contaminating water sources, reducing biodiversity and increasing the risk of herbicide resistance  . Some of these effects can be mitigated by following proper application guidelines, using alternative weed control methods and choosing environmentally friendly herbicide formulations.\n",
      "Query: I am a farmer from Telangana. Summer rains have spoiled my crops. Tell me what should I do now?\n",
      "Response: If your crop has been affected by summer rain, it may be necessary to replant the crop in order to recover. The best time for planting is after the last rainfall. You can also consider applying a foliar spray of an appropriate herbicide to protect against weeds.\n",
      "Query: My soil is very dry. What should I do now?\n",
      "Response: If your soil is too dry, it may be necessary to apply a foliar spray of an appropriate herbicide to protect against weeds.\n",
      "Query: I am a farmer from Andhra Pradesh. I have planted cotton seeds in my field. But they did not germinate. What should I do now?\n",
      "Response: If your cotton seeds did not germinate, it may be necessary to replant the crop in order to recover. The best time for planting is after the last rainfall. You can also consider applying a foliar spray of an appropriate herbicide to protect against weeds.\n",
      "Query: I am a farmer from Telangana. I have planted cotton seeds in my field. But they did not germinate. What should I do now?\n",
      "Response: If your cotton seeds did not germinate, it may be necessary to replant the crop in order to recover. The best time for planting is after the last rainfall. You can also consider applying a foliar spray of an appropriate herbicide to protect against weeds.\n",
      "Query: I am a farmer from Telangana. I have planted cotton seeds in my field. But they did not germinate. What should I do now?\n",
      "Response: If your cotton seeds did not germinate, it may be necessary to replant the crop in order to recover. The best time\n"
     ]
    }
   ],
   "source": [
    "generate(\n",
    "    (\"Query: I heard that the use of gram herbicide can cause negative effects on the environment. Can you explain more about this?\\n\"\n",
    "    \"Response: Gram herbicide is not a specific product name, but a term used to describe herbicides that are applied to crops that have been genetically modified to tolerate them, such as glyphosate, dicamba or 2,4-D. These herbicides can have negative effects on the environment by killing non-target plants and animals, contaminating water sources, reducing biodiversity and increasing the risk of herbicide resistance   . Some of these effects can be mitigated by following proper application guidelines, using alternative weed control methods and choosing environmentally friendly herbicide formulations .\\n\"\n",
    "    \"Query: {}\\n\"\n",
    "    \"Response:\").format(\"I am a farmer from Telangana. Summer rains have spoiled my crops. Tell me what should I do now?\")\n",
    ")"
   ]
  },
  {
   "cell_type": "code",
   "execution_count": null,
   "id": "5a5a283a",
   "metadata": {},
   "outputs": [],
   "source": []
  },
  {
   "cell_type": "code",
   "execution_count": null,
   "id": "5596f77d",
   "metadata": {},
   "outputs": [],
   "source": []
  },
  {
   "cell_type": "code",
   "execution_count": 6,
   "id": "bdcef653",
   "metadata": {},
   "outputs": [],
   "source": [
    "pipe = pipeline('text-generation', model = model, tokenizer = tokenizer, device = 3)"
   ]
  },
  {
   "cell_type": "code",
   "execution_count": 9,
   "id": "2b320efc",
   "metadata": {},
   "outputs": [
    {
     "name": "stderr",
     "output_type": "stream",
     "text": [
      "Setting `pad_token_id` to `eos_token_id`:0 for open-end generation.\n"
     ]
    },
    {
     "data": {
      "text/plain": [
       "[{'generated_text': \"Hey I am a farmer but I am not a farmer. I am a farmer's son. I am a farmer's son. I am a farmer's son. I am a farmer's son. I am a farmer's son. I am a farmer's son. I am a farmer's son. I am a farmer's son. I am a farmer's son. I am a farmer's son. I am a farmer's son. I am a farmer's son. I am a farmer's son. I am a farmer's son. I am a farmer's son. I am a farmer's son. I am a farmer\"}]"
      ]
     },
     "execution_count": 9,
     "metadata": {},
     "output_type": "execute_result"
    }
   ],
   "source": [
    "pipe(\n",
    "    \"Hey I am a farm\", \n",
    "    max_length=128,\n",
    ")"
   ]
  },
  {
   "cell_type": "code",
   "execution_count": 10,
   "id": "6ebf157d",
   "metadata": {},
   "outputs": [],
   "source": [
    "with open(\"../kcc_data/jsonlines/data.jsonl\", 'r') as reader:\n",
    "        data = [i[1:-2] for i in reader]"
   ]
  },
  {
   "cell_type": "code",
   "execution_count": 11,
   "id": "4eeff715",
   "metadata": {},
   "outputs": [],
   "source": [
    "tokens = tokenizer(\n",
    "    [data[0]], \n",
    "    return_tensors = 'pt',\n",
    "    truncation = True,\n",
    "    max_length = 2048\n",
    ")"
   ]
  },
  {
   "cell_type": "code",
   "execution_count": 12,
   "id": "d7fb1420",
   "metadata": {},
   "outputs": [],
   "source": [
    "input_ids = tokens['input_ids'][:, 0:-1].cuda()\n",
    "labels = tokens['input_ids'][:, 1:].cuda()"
   ]
  },
  {
   "cell_type": "code",
   "execution_count": null,
   "id": "43a5d490",
   "metadata": {},
   "outputs": [],
   "source": [
    "model = "
   ]
  },
  {
   "cell_type": "code",
   "execution_count": 13,
   "id": "8d37ccef",
   "metadata": {},
   "outputs": [
    {
     "data": {
      "text/plain": [
       "tensor([[   29,    93,  7267,  ...,   964,   870, 10927]])"
      ]
     },
     "execution_count": 13,
     "metadata": {},
     "output_type": "execute_result"
    }
   ],
   "source": [
    "input_ids"
   ]
  },
  {
   "cell_type": "code",
   "execution_count": 14,
   "id": "dcdf7a3a",
   "metadata": {},
   "outputs": [
    {
     "data": {
      "text/plain": [
       "tensor([[   93,  7267, 49651,  ...,   870, 10927,  4357]])"
      ]
     },
     "execution_count": 14,
     "metadata": {},
     "output_type": "execute_result"
    }
   ],
   "source": [
    "labels"
   ]
  },
  {
   "cell_type": "code",
   "execution_count": null,
   "id": "f3031fa9",
   "metadata": {},
   "outputs": [],
   "source": []
  }
 ],
 "metadata": {
  "kernelspec": {
   "display_name": "Python 3 (ipykernel)",
   "language": "python",
   "name": "python3"
  },
  "language_info": {
   "codemirror_mode": {
    "name": "ipython",
    "version": 3
   },
   "file_extension": ".py",
   "mimetype": "text/x-python",
   "name": "python",
   "nbconvert_exporter": "python",
   "pygments_lexer": "ipython3",
   "version": "3.7.12"
  }
 },
 "nbformat": 4,
 "nbformat_minor": 5
}
