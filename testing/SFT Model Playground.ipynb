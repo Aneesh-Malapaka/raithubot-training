{
 "cells": [
  {
   "cell_type": "code",
   "execution_count": 1,
   "id": "4dddeaa8",
   "metadata": {},
   "outputs": [],
   "source": [
    "from transformers import pipeline"
   ]
  },
  {
   "cell_type": "code",
   "execution_count": 2,
   "id": "6660019d",
   "metadata": {},
   "outputs": [],
   "source": [
    "from transformers import AutoModelForCausalLM, AutoTokenizer"
   ]
  },
  {
   "cell_type": "code",
   "execution_count": 3,
   "id": "149fae61",
   "metadata": {
    "scrolled": false
   },
   "outputs": [
    {
     "data": {
      "application/vnd.jupyter.widget-view+json": {
       "model_id": "",
       "version_major": 2,
       "version_minor": 0
      },
      "text/plain": [
       "Loading checkpoint shards:   0%|          | 0/3 [00:00<?, ?it/s]"
      ]
     },
     "metadata": {},
     "output_type": "display_data"
    }
   ],
   "source": [
    "model = AutoModelForCausalLM.from_pretrained('OpenAssistant/oasst-sft-1-pythia-12b', cache_dir = './hf-models')"
   ]
  },
  {
   "cell_type": "code",
   "execution_count": 8,
   "id": "91dd4752",
   "metadata": {},
   "outputs": [],
   "source": [
    "model = model.half().eval().cuda()"
   ]
  },
  {
   "cell_type": "code",
   "execution_count": 5,
   "id": "6e0ac09f",
   "metadata": {},
   "outputs": [],
   "source": [
    "tokenizer = AutoTokenizer.from_pretrained('OpenAssistant/oasst-sft-1-pythia-12b', cache_dir = './hf-models')"
   ]
  },
  {
   "cell_type": "code",
   "execution_count": 12,
   "id": "edf61bd0",
   "metadata": {},
   "outputs": [],
   "source": [
    "text = (\"<|prompter|>Rephrase the text from a confused farmer:\"\n",
    "     \" \\'inquiering date to distributed the new land use policy NLUP of the mizoram state goverment.\\'\"\n",
    "     \"<|endoftext|><|assistant|>Hey There I am a farmer from mizoram and I'd like to know when will the new land use policy\"\n",
    "     \" NLUP will start?<|endoftext|><|prompter|>Rephrase the text from a confused farmer:\"\n",
    "     \"\\'ASKING ABOUT THE HOW TO AMELIORATE THE SOILS IN BLACKBERRY PLANTATION FIELD.\\'<|endoftext|><|assistant|>\"\n",
    "       )"
   ]
  },
  {
   "cell_type": "code",
   "execution_count": 13,
   "id": "6e5ccbcf",
   "metadata": {},
   "outputs": [],
   "source": [
    "def generate(text):\n",
    "    tokens = tokenizer([text], return_tensors = 'pt').input_ids\n",
    "    generation = model.generate(\n",
    "        input_ids = tokens.cuda(),\n",
    "        temperature = 0,\n",
    "        max_length = 512\n",
    "    )\n",
    "    text = tokenizer.decode(generation[0].cpu())\n",
    "    return text"
   ]
  },
  {
   "cell_type": "code",
   "execution_count": 14,
   "id": "5a9a4528",
   "metadata": {},
   "outputs": [
    {
     "name": "stderr",
     "output_type": "stream",
     "text": [
      "The attention mask and the pad token id were not set. As a consequence, you may observe unexpected behavior. Please pass your input's `attention_mask` to obtain reliable results.\n",
      "Setting `pad_token_id` to `eos_token_id`:0 for open-end generation.\n"
     ]
    },
    {
     "name": "stdout",
     "output_type": "stream",
     "text": [
      "Hey there! I'm a farmer from Blackberry Plantation and I'm just wondering how I can improve the soil in my field. Can you give me some tips?\n"
     ]
    }
   ],
   "source": [
    "generated_text = generate(text)\n",
    "\n",
    "generated_text = generated_text[generated_text.rfind(\"<|assistant|>\"):generated_text.rfind(\"<|endoftext|>\")]\n",
    "\n",
    "generated_text = generated_text[len(\"<|assistant|>\"):]\n",
    "\n",
    "print(generated_text)"
   ]
  },
  {
   "cell_type": "code",
   "execution_count": 15,
   "id": "b65d3a92",
   "metadata": {},
   "outputs": [],
   "source": [
    "def read_from_json(path):\n",
    "    with open(path, 'r') as f:\n",
    "        data = json.load(f)\n",
    "    \n",
    "    for record in data:\n",
    "        yield record[\"QueryText\"]"
   ]
  },
  {
   "cell_type": "code",
   "execution_count": 22,
   "id": "13ebc82f",
   "metadata": {},
   "outputs": [
    {
     "name": "stdout",
     "output_type": "stream",
     "text": [
      "data_4099_40.json\n"
     ]
    }
   ],
   "source": []
  },
  {
   "cell_type": "code",
   "execution_count": null,
   "id": "b0fb7d9b",
   "metadata": {},
   "outputs": [],
   "source": []
  }
 ],
 "metadata": {
  "kernelspec": {
   "display_name": "Python 3 (ipykernel)",
   "language": "python",
   "name": "python3"
  },
  "language_info": {
   "codemirror_mode": {
    "name": "ipython",
    "version": 3
   },
   "file_extension": ".py",
   "mimetype": "text/x-python",
   "name": "python",
   "nbconvert_exporter": "python",
   "pygments_lexer": "ipython3",
   "version": "3.7.12"
  }
 },
 "nbformat": 4,
 "nbformat_minor": 5
}
